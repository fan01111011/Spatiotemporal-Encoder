{
 "cells": [
  {
   "cell_type": "code",
   "execution_count": null,
   "metadata": {},
   "outputs": [],
   "source": [
    "import os \n",
    "import numpy as np\n",
    "import pandas as pd\n",
    "import matplotlib.pyplot as plt\n",
    "import seaborn as sns\n",
    "import librosa\n",
    "import librosa.display\n",
    "from time_encoder_2D import time_encoder_2D\n",
    "from model import hd_model"
   ]
  },
  {
   "cell_type": "code",
   "execution_count": null,
   "metadata": {},
   "outputs": [],
   "source": [
    "def db_melspectrogram(wav , sr , n_fft, hop_length, n_mels, fmin, fmax, top_db):\n",
    "    spec=librosa.feature.melspectrogram(y=wav, sr=sr, n_fft=n_fft, hop_length=hop_length,n_mels=n_mels,fmin=fmin,fmax=fmax)\n",
    "    spec_db=librosa.power_to_db(spec,top_db=top_db)\n",
    "    spec_db = spec_db.astype(np.float32)\n",
    "    return spec_db"
   ]
  },
  {
   "cell_type": "code",
   "execution_count": null,
   "metadata": {},
   "outputs": [],
   "source": [
    "y, sr = librosa.load(\"./data/alarms/alarms01.wav\", sr = None)\n",
    "mel_sp = db_melspectrogram(wav = y, sr = sr, n_fft = 2048, hop_length=512, top_db = 80, n_mels = 64, fmin= 0, fmax= int(sr /2))\n",
    "\n",
    "# img = librosa.display.specshow(mel_sp, x_axis='time',y_axis='mel')\n",
    "\n",
    "print(mel_sp.shape)"
   ]
  },
  {
   "cell_type": "code",
   "execution_count": null,
   "metadata": {},
   "outputs": [],
   "source": [
    "frame_amount = int (mel_sp.shape[1] / mel_sp.shape[0])\n",
    "frame_amount"
   ]
  },
  {
   "cell_type": "code",
   "execution_count": null,
   "metadata": {},
   "outputs": [],
   "source": [
    "amount_of_train = 14\n",
    "amount_of_test = 4\n",
    "amount_of_label = 10"
   ]
  },
  {
   "cell_type": "code",
   "execution_count": null,
   "metadata": {},
   "outputs": [],
   "source": [
    "classified_path = \"./data/\"\n",
    "folder_list = os.listdir(classified_path)\n",
    "\n",
    "label = 0\n",
    "\n",
    "hd_dim = 10000\n",
    "\n",
    "data = np.zeros(64 * 64)\n",
    "\n",
    "encoder = time_encoder_2D(64 ,hd_dim, 2000 , 1.0, 64, 1)\n",
    "\n",
    "model = hd_model(10 , hd_dim)\n",
    "\n",
    "for i in folder_list:\n",
    "     \n",
    "    counter = 0\n",
    "    print(\"This is \" + i) \n",
    "    sub_folder_path = classified_path + i + \"/\"\n",
    "    sub_folder_list = os.listdir(sub_folder_path)\n",
    "\n",
    "    for j in sub_folder_list[: amount_of_train]:\n",
    "        y, sr = librosa.load(sub_folder_path + \"/\" + j, sr = None)\n",
    "        mel_sp = db_melspectrogram(wav = y, sr = sr, n_fft = 2048, hop_length=512, top_db = 80, n_mels = 64, fmin= 0, fmax= int(sr /2))\n",
    "        for filter in range(0 ,mel_sp.shape[0]):\n",
    "            mel_sp[filter] = np.divide(mel_sp[filter] , np.max(np.abs(mel_sp[filter])) )\n",
    "        mel_sp = np.transpose(mel_sp)\n",
    "        \n",
    "\n",
    "        for f in range(0 , frame_amount - 1):\n",
    "            data = mel_sp[f * 64 : (f + 1) * 64]\n",
    "            \n",
    "            model.add_hdv(encoder.encode(input_data = data), str(label))\n",
    "        counter = counter + 1\n",
    "    \n",
    "    label = label + 1"
   ]
  },
  {
   "cell_type": "code",
   "execution_count": null,
   "metadata": {},
   "outputs": [],
   "source": [
    "model.model_data\n",
    "# model.bipolar_model_data()\n",
    "# model.bipolar_data"
   ]
  },
  {
   "cell_type": "code",
   "execution_count": null,
   "metadata": {},
   "outputs": [],
   "source": [
    "# correct = 0\n",
    "# tested = 0\n",
    "# label = 0\n",
    "# for i in folder_list:\n",
    "#     print(\"This is \" + i) \n",
    "\n",
    "#     sub_folder_path = classified_path + i + \"/\"\n",
    "#     sub_folder_list = os.listdir(sub_folder_path)    \n",
    "\n",
    "#     for j in sub_folder_list[amount_of_train:]:\n",
    "#         y, sr = librosa.load(sub_folder_path + \"/\" + j, sr = None)\n",
    "#         mel_sp = db_melspectrogram(wav = y, sr = sr, n_fft = 2048, hop_length=512, top_db = 80, n_mels = 64, fmin= 0, fmax= int(sr /2))\n",
    "#         for filter in range(0 ,mel_sp.shape[0]):\n",
    "#             mel_sp[filter] = np.divide(mel_sp[filter] , np.max(np.abs(mel_sp[filter])) )\n",
    "            \n",
    "#         mel_sp = np.transpose(mel_sp)\n",
    "    \n",
    "#         for f in range(0 , frame_amount - 1):\n",
    "#             data = mel_sp[f * 64 : (f + 1) * 64]\n",
    "#             data = data.flatten()\n",
    "#             hdv = encoder.encode(input_data = data)\n",
    "            \n",
    "#             max_ham = 0\n",
    "#             predict_label = \"0\"\n",
    "\n",
    "#             for i in model.bipolar_data.keys():\n",
    "#                 ham_helper = 0\n",
    "#                 for index in range(0, hd_dim):\n",
    "#                     if model.bipolar_data[i][index] == hdv[index]:\n",
    "#                         ham_helper = ham_helper + 1\n",
    "#                 if ham_helper > max_ham:\n",
    "#                     max_ham = ham_helper\n",
    "#                     predict_label = i\n",
    "#             tested = tested + 1\n",
    "#             if predict_label == str(label):\n",
    "#                 correct = correct + 1\n",
    "#             print(label, predict_label)\n",
    "\n",
    "#     label = label + 1"
   ]
  },
  {
   "cell_type": "code",
   "execution_count": null,
   "metadata": {},
   "outputs": [],
   "source": [
    "def cosine_sim(A, B):\n",
    "    return np.dot(A,B)/(np.linalg.norm(A)*np.linalg.norm(B))\n",
    "\n",
    "correct = 0\n",
    "tested = 0\n",
    "label = 0\n",
    "for i in folder_list:\n",
    "    print(\"This is \" + i) \n",
    "\n",
    "    sub_folder_path = classified_path + i + \"/\"\n",
    "    sub_folder_list = os.listdir(sub_folder_path)    \n",
    "\n",
    "    for j in sub_folder_list[amount_of_train:]:\n",
    "        y, sr = librosa.load(sub_folder_path + \"/\" + j, sr = None)\n",
    "        mel_sp = db_melspectrogram(wav = y, sr = sr, n_fft = 2048, hop_length=512, top_db = 80, n_mels = 64, fmin= 0, fmax= int(sr /2))\n",
    "        for filter in range(0 ,mel_sp.shape[0]):\n",
    "            mel_sp[filter] = np.divide(mel_sp[filter] , np.max(np.abs(mel_sp[filter])) )\n",
    "            \n",
    "        mel_sp = np.transpose(mel_sp)\n",
    "        \n",
    "        label_list = [0] * amount_of_label\n",
    "\n",
    "        for f in range(0 , frame_amount - 1):\n",
    "            data = mel_sp[f * 64 : (f + 1) * 64]\n",
    "            hdv = encoder.encode(input_data = data)\n",
    "            \n",
    "            max_cos = 0\n",
    "            predict_label = \"0\"\n",
    "\n",
    "            for i in model.bipolar_data.keys():\n",
    "                ham_helper = cosine_sim(hdv, model.model_data[i])\n",
    "                if ham_helper > max_cos:\n",
    "                    max_cos = ham_helper\n",
    "                    predict_label = i\n",
    "            label_list[int(predict_label)] += 1\n",
    "\n",
    "        predict_label = str(label_list.index(max(label_list)))\n",
    "\n",
    "        tested = tested + 1\n",
    "        if predict_label == str(label):\n",
    "            correct = correct + 1\n",
    "        print(label, predict_label)\n",
    "\n",
    "    label = label + 1"
   ]
  },
  {
   "cell_type": "code",
   "execution_count": null,
   "metadata": {},
   "outputs": [],
   "source": [
    "correct / tested"
   ]
  }
 ],
 "metadata": {
  "kernelspec": {
   "display_name": "Python 3",
   "language": "python",
   "name": "python3"
  },
  "language_info": {
   "codemirror_mode": {
    "name": "ipython",
    "version": 3
   },
   "file_extension": ".py",
   "mimetype": "text/x-python",
   "name": "python",
   "nbconvert_exporter": "python",
   "pygments_lexer": "ipython3",
   "version": "3.11.2"
  }
 },
 "nbformat": 4,
 "nbformat_minor": 2
}
